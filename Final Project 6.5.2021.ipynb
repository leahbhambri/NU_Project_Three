{
 "cells": [
  {
   "cell_type": "markdown",
   "metadata": {},
   "source": [
    "# Identify Data\n",
    "\n",
    "Found On: Kaggle\n",
    "\n",
    "Source/Institution: US Census Bureau \n",
    "\n",
    "Data Set Name: 2013 American Community Survey\n",
    "\n",
    "Data Provided: 4 CSV files with 3M+ lines of data and 70+ columns\n",
    "\n",
    "Data Set Description: The American Community Survey is an ongoing survey from the US Census Bureau. In this survey, approximately 3.5 million households per year are asked detailed questions about who they are and how they live. Many topics are covered, including ancestry, education, work, transportation, internet use, and residence."
   ]
  },
  {
   "cell_type": "markdown",
   "metadata": {},
   "source": [
    "# Cleaned the Data\n",
    "\n",
    "From the 4 data files:\n",
    "1. Determined which columns where needed\n",
    "2. Dropped unwanted columns\n",
    "3. Merged the 4 DF into a singular data frame"
   ]
  },
  {
   "cell_type": "markdown",
   "metadata": {},
   "source": [
    "# Refined the Data for Machine Learning"
   ]
  },
  {
   "cell_type": "code",
   "execution_count": 1,
   "metadata": {},
   "outputs": [],
   "source": [
    "# import dependancies\n",
    "from sklearn.model_selection import train_test_split\n",
    "from sklearn.preprocessing import StandardScaler\n",
    "from tensorflow.keras.utils import to_categorical\n",
    "from tensorflow.keras.models import Sequential\n",
    "from tensorflow.keras.layers import Dense\n",
    "import pandas as pd\n",
    "import numpy as np\n",
    "pd.options.display.max_columns = None\n"
   ]
  },
  {
   "cell_type": "code",
   "execution_count": 2,
   "metadata": {
    "scrolled": true
   },
   "outputs": [
    {
     "data": {
      "text/html": [
       "<div>\n",
       "<style scoped>\n",
       "    .dataframe tbody tr th:only-of-type {\n",
       "        vertical-align: middle;\n",
       "    }\n",
       "\n",
       "    .dataframe tbody tr th {\n",
       "        vertical-align: top;\n",
       "    }\n",
       "\n",
       "    .dataframe thead th {\n",
       "        text-align: right;\n",
       "    }\n",
       "</style>\n",
       "<table border=\"1\" class=\"dataframe\">\n",
       "  <thead>\n",
       "    <tr style=\"text-align: right;\">\n",
       "      <th></th>\n",
       "      <th>Unnamed: 0</th>\n",
       "      <th>SERIALNO</th>\n",
       "      <th>state</th>\n",
       "      <th>lot_size</th>\n",
       "      <th>num_kids</th>\n",
       "      <th>work_status</th>\n",
       "      <th>fam_type_employment_status</th>\n",
       "      <th>family_income</th>\n",
       "      <th>household_with_gp</th>\n",
       "      <th>property_taxes</th>\n",
       "      <th>mortgage_status</th>\n",
       "      <th>num_marriages</th>\n",
       "      <th>race</th>\n",
       "      <th>age</th>\n",
       "      <th>education</th>\n",
       "      <th>job_type</th>\n",
       "      <th>marital_status</th>\n",
       "    </tr>\n",
       "  </thead>\n",
       "  <tbody>\n",
       "    <tr>\n",
       "      <th>0</th>\n",
       "      <td>0</td>\n",
       "      <td>84</td>\n",
       "      <td>1</td>\n",
       "      <td>NaN</td>\n",
       "      <td>NaN</td>\n",
       "      <td>NaN</td>\n",
       "      <td>NaN</td>\n",
       "      <td>NaN</td>\n",
       "      <td>NaN</td>\n",
       "      <td>NaN</td>\n",
       "      <td>NaN</td>\n",
       "      <td>NaN</td>\n",
       "      <td>1</td>\n",
       "      <td>19</td>\n",
       "      <td>19.0</td>\n",
       "      <td>NaN</td>\n",
       "      <td>5</td>\n",
       "    </tr>\n",
       "    <tr>\n",
       "      <th>1</th>\n",
       "      <td>1</td>\n",
       "      <td>154</td>\n",
       "      <td>1</td>\n",
       "      <td>1.0</td>\n",
       "      <td>0.0</td>\n",
       "      <td>1.0</td>\n",
       "      <td>1.0</td>\n",
       "      <td>151000.0</td>\n",
       "      <td>0.0</td>\n",
       "      <td>3.0</td>\n",
       "      <td>3.0</td>\n",
       "      <td>1.0</td>\n",
       "      <td>2</td>\n",
       "      <td>55</td>\n",
       "      <td>20.0</td>\n",
       "      <td>4700.0</td>\n",
       "      <td>1</td>\n",
       "    </tr>\n",
       "    <tr>\n",
       "      <th>2</th>\n",
       "      <td>2</td>\n",
       "      <td>154</td>\n",
       "      <td>1</td>\n",
       "      <td>1.0</td>\n",
       "      <td>0.0</td>\n",
       "      <td>1.0</td>\n",
       "      <td>1.0</td>\n",
       "      <td>151000.0</td>\n",
       "      <td>0.0</td>\n",
       "      <td>3.0</td>\n",
       "      <td>3.0</td>\n",
       "      <td>1.0</td>\n",
       "      <td>2</td>\n",
       "      <td>56</td>\n",
       "      <td>16.0</td>\n",
       "      <td>7240.0</td>\n",
       "      <td>1</td>\n",
       "    </tr>\n",
       "    <tr>\n",
       "      <th>3</th>\n",
       "      <td>3</td>\n",
       "      <td>154</td>\n",
       "      <td>1</td>\n",
       "      <td>1.0</td>\n",
       "      <td>0.0</td>\n",
       "      <td>1.0</td>\n",
       "      <td>1.0</td>\n",
       "      <td>151000.0</td>\n",
       "      <td>0.0</td>\n",
       "      <td>3.0</td>\n",
       "      <td>3.0</td>\n",
       "      <td>NaN</td>\n",
       "      <td>2</td>\n",
       "      <td>21</td>\n",
       "      <td>19.0</td>\n",
       "      <td>NaN</td>\n",
       "      <td>5</td>\n",
       "    </tr>\n",
       "    <tr>\n",
       "      <th>4</th>\n",
       "      <td>4</td>\n",
       "      <td>154</td>\n",
       "      <td>1</td>\n",
       "      <td>1.0</td>\n",
       "      <td>0.0</td>\n",
       "      <td>1.0</td>\n",
       "      <td>1.0</td>\n",
       "      <td>151000.0</td>\n",
       "      <td>0.0</td>\n",
       "      <td>3.0</td>\n",
       "      <td>3.0</td>\n",
       "      <td>NaN</td>\n",
       "      <td>2</td>\n",
       "      <td>21</td>\n",
       "      <td>19.0</td>\n",
       "      <td>NaN</td>\n",
       "      <td>5</td>\n",
       "    </tr>\n",
       "  </tbody>\n",
       "</table>\n",
       "</div>"
      ],
      "text/plain": [
       "   Unnamed: 0  SERIALNO  state  lot_size  num_kids  work_status  \\\n",
       "0           0        84      1       NaN       NaN          NaN   \n",
       "1           1       154      1       1.0       0.0          1.0   \n",
       "2           2       154      1       1.0       0.0          1.0   \n",
       "3           3       154      1       1.0       0.0          1.0   \n",
       "4           4       154      1       1.0       0.0          1.0   \n",
       "\n",
       "   fam_type_employment_status  family_income  household_with_gp  \\\n",
       "0                         NaN            NaN                NaN   \n",
       "1                         1.0       151000.0                0.0   \n",
       "2                         1.0       151000.0                0.0   \n",
       "3                         1.0       151000.0                0.0   \n",
       "4                         1.0       151000.0                0.0   \n",
       "\n",
       "   property_taxes  mortgage_status  num_marriages  race  age  education  \\\n",
       "0             NaN              NaN            NaN     1   19       19.0   \n",
       "1             3.0              3.0            1.0     2   55       20.0   \n",
       "2             3.0              3.0            1.0     2   56       16.0   \n",
       "3             3.0              3.0            NaN     2   21       19.0   \n",
       "4             3.0              3.0            NaN     2   21       19.0   \n",
       "\n",
       "   job_type  marital_status  \n",
       "0       NaN               5  \n",
       "1    4700.0               1  \n",
       "2    7240.0               1  \n",
       "3       NaN               5  \n",
       "4       NaN               5  "
      ]
     },
     "execution_count": 2,
     "metadata": {},
     "output_type": "execute_result"
    }
   ],
   "source": [
    "data = pd.read_csv(\"final_project_data_raw.csv\")\n",
    "data.head()"
   ]
  },
  {
   "cell_type": "code",
   "execution_count": 3,
   "metadata": {
    "scrolled": true
   },
   "outputs": [],
   "source": [
    "# drop unneeded columns\n",
    "data = data.drop(columns = [\"Unnamed: 0\", \"SERIALNO\", \"num_marriages\", \"state\", \"job_type\", 'fam_type_employment_status', 'work_status'])"
   ]
  },
  {
   "cell_type": "code",
   "execution_count": 4,
   "metadata": {},
   "outputs": [],
   "source": [
    "data = data.loc[data[\"age\"] > 16]"
   ]
  },
  {
   "cell_type": "code",
   "execution_count": 5,
   "metadata": {},
   "outputs": [
    {
     "data": {
      "text/html": [
       "<div>\n",
       "<style scoped>\n",
       "    .dataframe tbody tr th:only-of-type {\n",
       "        vertical-align: middle;\n",
       "    }\n",
       "\n",
       "    .dataframe tbody tr th {\n",
       "        vertical-align: top;\n",
       "    }\n",
       "\n",
       "    .dataframe thead th {\n",
       "        text-align: right;\n",
       "    }\n",
       "</style>\n",
       "<table border=\"1\" class=\"dataframe\">\n",
       "  <thead>\n",
       "    <tr style=\"text-align: right;\">\n",
       "      <th></th>\n",
       "      <th>lot_size</th>\n",
       "      <th>num_kids</th>\n",
       "      <th>family_income</th>\n",
       "      <th>household_with_gp</th>\n",
       "      <th>property_taxes</th>\n",
       "      <th>mortgage_status</th>\n",
       "      <th>race</th>\n",
       "      <th>age</th>\n",
       "      <th>education</th>\n",
       "      <th>marital_status</th>\n",
       "    </tr>\n",
       "  </thead>\n",
       "  <tbody>\n",
       "    <tr>\n",
       "      <th>0</th>\n",
       "      <td>NaN</td>\n",
       "      <td>NaN</td>\n",
       "      <td>NaN</td>\n",
       "      <td>NaN</td>\n",
       "      <td>NaN</td>\n",
       "      <td>NaN</td>\n",
       "      <td>1</td>\n",
       "      <td>19</td>\n",
       "      <td>19.0</td>\n",
       "      <td>2</td>\n",
       "    </tr>\n",
       "    <tr>\n",
       "      <th>1</th>\n",
       "      <td>1.0</td>\n",
       "      <td>0.0</td>\n",
       "      <td>151000.0</td>\n",
       "      <td>0.0</td>\n",
       "      <td>3.0</td>\n",
       "      <td>3.0</td>\n",
       "      <td>2</td>\n",
       "      <td>55</td>\n",
       "      <td>20.0</td>\n",
       "      <td>0</td>\n",
       "    </tr>\n",
       "    <tr>\n",
       "      <th>2</th>\n",
       "      <td>1.0</td>\n",
       "      <td>0.0</td>\n",
       "      <td>151000.0</td>\n",
       "      <td>0.0</td>\n",
       "      <td>3.0</td>\n",
       "      <td>3.0</td>\n",
       "      <td>2</td>\n",
       "      <td>56</td>\n",
       "      <td>16.0</td>\n",
       "      <td>0</td>\n",
       "    </tr>\n",
       "    <tr>\n",
       "      <th>3</th>\n",
       "      <td>1.0</td>\n",
       "      <td>0.0</td>\n",
       "      <td>151000.0</td>\n",
       "      <td>0.0</td>\n",
       "      <td>3.0</td>\n",
       "      <td>3.0</td>\n",
       "      <td>2</td>\n",
       "      <td>21</td>\n",
       "      <td>19.0</td>\n",
       "      <td>2</td>\n",
       "    </tr>\n",
       "    <tr>\n",
       "      <th>4</th>\n",
       "      <td>1.0</td>\n",
       "      <td>0.0</td>\n",
       "      <td>151000.0</td>\n",
       "      <td>0.0</td>\n",
       "      <td>3.0</td>\n",
       "      <td>3.0</td>\n",
       "      <td>2</td>\n",
       "      <td>21</td>\n",
       "      <td>19.0</td>\n",
       "      <td>2</td>\n",
       "    </tr>\n",
       "  </tbody>\n",
       "</table>\n",
       "</div>"
      ],
      "text/plain": [
       "   lot_size  num_kids  family_income  household_with_gp  property_taxes  \\\n",
       "0       NaN       NaN            NaN                NaN             NaN   \n",
       "1       1.0       0.0       151000.0                0.0             3.0   \n",
       "2       1.0       0.0       151000.0                0.0             3.0   \n",
       "3       1.0       0.0       151000.0                0.0             3.0   \n",
       "4       1.0       0.0       151000.0                0.0             3.0   \n",
       "\n",
       "   mortgage_status  race  age  education  marital_status  \n",
       "0              NaN     1   19       19.0               2  \n",
       "1              3.0     2   55       20.0               0  \n",
       "2              3.0     2   56       16.0               0  \n",
       "3              3.0     2   21       19.0               2  \n",
       "4              3.0     2   21       19.0               2  "
      ]
     },
     "execution_count": 5,
     "metadata": {},
     "output_type": "execute_result"
    }
   ],
   "source": [
    "# replace marital status \n",
    "data[\"marital_status\"].replace({1:0, 2:0, 3:1, 4: 1, 5:2}, inplace=True)\n",
    "data.head()"
   ]
  },
  {
   "cell_type": "code",
   "execution_count": 6,
   "metadata": {},
   "outputs": [],
   "source": [
    "# lot_size\n",
    "data['lot_size'] = data['lot_size'].fillna(0).replace({0 : \"N/A\", \n",
    "  1: \">1_acre\", \n",
    "  2: '>10_acre', \n",
    "  3: '10+acres'})"
   ]
  },
  {
   "cell_type": "code",
   "execution_count": 7,
   "metadata": {},
   "outputs": [],
   "source": [
    "# household_with_gp\n",
    "data[\"household_with_gp\"] = data[\"household_with_gp\"].replace({\n",
    "  0: \"HH without grandparent\",\n",
    "  1: \"HH with grandparent\"})"
   ]
  },
  {
   "cell_type": "code",
   "execution_count": 8,
   "metadata": {},
   "outputs": [],
   "source": [
    "# race\n",
    "data['race'] = data['race'].replace({1: 'White',\n",
    "                                                               2: \"Black / African American\",\n",
    "                                                               3: 'American Indian',\n",
    "                                                               4: 'Alaska Native',\n",
    "                                                               5: \"American Indian and Alaska Native\",\n",
    "                                                               6: \"Asian\",\n",
    "                                                               7: \"Native Hawaiian\",\n",
    "                                                               8: \"Some Other Race\",\n",
    "                                                               9: \"Two or More\"\n",
    "                                                               })"
   ]
  },
  {
   "cell_type": "code",
   "execution_count": 9,
   "metadata": {},
   "outputs": [],
   "source": [
    "# education \n",
    "data.loc[data.education<15, 'education']= '<12th Grade'\n",
    "data['education'] = data['education'].replace({15: '12th grade - No Diploma', \n",
    "                                               16: \"High School Diploma\", \n",
    "                                               17: 'GED',\n",
    "                                               18: 'Less Than 1 Year of College', \n",
    "                                                19: \"Some College - No Degree\",\n",
    "                                                20: \"Associate's\", \n",
    "                                                21: \"Bachelor's\", \n",
    "                                                22: \"Master's\",\n",
    "                                                23: \"Professional Degree Beyond a Bachelor's\", \n",
    "                                                24: 'Doctorate Degree',\n",
    "                                                               })\n"
   ]
  },
  {
   "cell_type": "code",
   "execution_count": 10,
   "metadata": {},
   "outputs": [],
   "source": [
    "# mortgage_status\n",
    "data['mortgage_status'] = data['mortgage_status'].replace({\n",
    "           1 :\"Mortgage, deed of trust, or similar debt\",\n",
    "           2 :\"Contract to purchase\",\n",
    "           3 :\"None\"})"
   ]
  },
  {
   "cell_type": "code",
   "execution_count": 11,
   "metadata": {},
   "outputs": [],
   "source": [
    "# property_taxes \n",
    "data['property_taxes'] = data['property_taxes'].replace({\n",
    "            1 : \"$0\",\n",
    "           2 : \"$ 1 - $  49\",\n",
    "           3 :\"$ 50 - $  99\",\n",
    "           4 :\"$ 100 - $ 149\",\n",
    "           5 :\"$ 150 - $ 199\",\n",
    "           6 :\"$ 200 - $ 249\",\n",
    "           7 :\"$ 250 - $ 299\",\n",
    "           8 :\"$ 300 - $ 349\",\n",
    "           9 :\"$ 350 - $ 399\",\n",
    "           10: \"$ 400 - $ 449\",\n",
    "           11: \"$ 450 - $ 499\",\n",
    "           12 :\"$ 500 - $ 549\",\n",
    "           13 :\"$ 550 - $ 599\",\n",
    "           14 :\"$ 600 - $ 649\",\n",
    "           15 :\"$ 650 - $ 699\",\n",
    "           16 :\"$ 700 - $ 749\",\n",
    "           17 :\"$ 750 - $ 799\",\n",
    "           18 :\"$ 800 - $ 849\",\n",
    "           19 :\"$ 850 - $ 899\",\n",
    "           20 :\"$ 900 - $ 949\",\n",
    "           21 :\"$ 950 - $ 999\",\n",
    "           22 :\"$1000 - $1099\",\n",
    "           23 :\"$1100 - $1199\",\n",
    "           24 :\"$1200 - $1299\",\n",
    "           25 :\"$1300 - $1399\",\n",
    "           26 :\"$1400 - $1499\",\n",
    "           27 :\"$1500 - $1599\",\n",
    "           28 :\"$1600 - $1699\",\n",
    "           29 :\"$1700 - $1799\",\n",
    "           30 :\"$1800 - $1899\",\n",
    "           31 :\"$1900 - $1999\",\n",
    "           32 :\"$2000 - $2099\",\n",
    "           33 :\"$2100 - $2199\",\n",
    "           34 :\"$2200 - $2299\",\n",
    "           35 :\"$2300 - $2399\",\n",
    "           36 :\"$2400 - $2499\",\n",
    "           37 :\"$2500 - $2599\",\n",
    "           38 :\"$2600 - $2699\",\n",
    "           39 :\"$2700 - $2799\",\n",
    "           40 :\"$2800 - $2899\",\n",
    "           41 :\"$2900 - $2999\",\n",
    "           42 :\"$3000 - $3099\",\n",
    "           43 :\"$3100 - $3199\",\n",
    "           44 :\"$3200 - $3299\",\n",
    "           45 :\"$3300 - $3399\",\n",
    "           46 :\"$3400 - $3499\",\n",
    "           47 :'$3500 - $3599',\n",
    "           48 :'$3600 - $3699',\n",
    "           49 :\"$3700 - $3799\",\n",
    "           50 :\"$3800 - $3899\",\n",
    "           51 :\"$3900 - $3999\",\n",
    "           52 :\"$4000 - $4099\",\n",
    "           53 :\"$4100 - $4199\",\n",
    "           54 :\"$4200 - $4299\",\n",
    "           55 :\"$4300 - $4399\",\n",
    "           56 :\"$4400 - $4499\",\n",
    "           57 :\"$4500 - $4599 \",\n",
    "           58 :\"$4600 - $4699\",\n",
    "           59 :\"$4700 - $4799\",\n",
    "           60 :\"$4800 - $4899\",\n",
    "           61 :\"$4900 - $4999\",\n",
    "           62 :\"$5000 - $5499\",\n",
    "           63 :\"$5500 - $5999\",\n",
    "           64 :\"$6000 - $6999\",\n",
    "           65 :\"$7000 - $7999\",\n",
    "           66 :\"$8000 - $8999\",\n",
    "           67 :\"$9000 - $9999\",\n",
    "           68 :\"$10000+ \"})"
   ]
  },
  {
   "cell_type": "code",
   "execution_count": 12,
   "metadata": {
    "scrolled": true
   },
   "outputs": [
    {
     "data": {
      "text/html": [
       "<div>\n",
       "<style scoped>\n",
       "    .dataframe tbody tr th:only-of-type {\n",
       "        vertical-align: middle;\n",
       "    }\n",
       "\n",
       "    .dataframe tbody tr th {\n",
       "        vertical-align: top;\n",
       "    }\n",
       "\n",
       "    .dataframe thead th {\n",
       "        text-align: right;\n",
       "    }\n",
       "</style>\n",
       "<table border=\"1\" class=\"dataframe\">\n",
       "  <thead>\n",
       "    <tr style=\"text-align: right;\">\n",
       "      <th></th>\n",
       "      <th>lot_size</th>\n",
       "      <th>num_kids</th>\n",
       "      <th>family_income</th>\n",
       "      <th>household_with_gp</th>\n",
       "      <th>property_taxes</th>\n",
       "      <th>mortgage_status</th>\n",
       "      <th>race</th>\n",
       "      <th>age</th>\n",
       "      <th>education</th>\n",
       "      <th>marital_status</th>\n",
       "    </tr>\n",
       "  </thead>\n",
       "  <tbody>\n",
       "    <tr>\n",
       "      <th>1</th>\n",
       "      <td>&gt;1_acre</td>\n",
       "      <td>0.0</td>\n",
       "      <td>151000.0</td>\n",
       "      <td>HH without grandparent</td>\n",
       "      <td>$ 50 - $  99</td>\n",
       "      <td>None</td>\n",
       "      <td>Black / African American</td>\n",
       "      <td>55</td>\n",
       "      <td>Associate's</td>\n",
       "      <td>0</td>\n",
       "    </tr>\n",
       "    <tr>\n",
       "      <th>2</th>\n",
       "      <td>&gt;1_acre</td>\n",
       "      <td>0.0</td>\n",
       "      <td>151000.0</td>\n",
       "      <td>HH without grandparent</td>\n",
       "      <td>$ 50 - $  99</td>\n",
       "      <td>None</td>\n",
       "      <td>Black / African American</td>\n",
       "      <td>56</td>\n",
       "      <td>High School Diploma</td>\n",
       "      <td>0</td>\n",
       "    </tr>\n",
       "    <tr>\n",
       "      <th>3</th>\n",
       "      <td>&gt;1_acre</td>\n",
       "      <td>0.0</td>\n",
       "      <td>151000.0</td>\n",
       "      <td>HH without grandparent</td>\n",
       "      <td>$ 50 - $  99</td>\n",
       "      <td>None</td>\n",
       "      <td>Black / African American</td>\n",
       "      <td>21</td>\n",
       "      <td>Some College - No Degree</td>\n",
       "      <td>2</td>\n",
       "    </tr>\n",
       "    <tr>\n",
       "      <th>4</th>\n",
       "      <td>&gt;1_acre</td>\n",
       "      <td>0.0</td>\n",
       "      <td>151000.0</td>\n",
       "      <td>HH without grandparent</td>\n",
       "      <td>$ 50 - $  99</td>\n",
       "      <td>None</td>\n",
       "      <td>Black / African American</td>\n",
       "      <td>21</td>\n",
       "      <td>Some College - No Degree</td>\n",
       "      <td>2</td>\n",
       "    </tr>\n",
       "    <tr>\n",
       "      <th>11</th>\n",
       "      <td>&gt;1_acre</td>\n",
       "      <td>0.0</td>\n",
       "      <td>136000.0</td>\n",
       "      <td>HH without grandparent</td>\n",
       "      <td>$1400 - $1499</td>\n",
       "      <td>Mortgage, deed of trust, or similar debt</td>\n",
       "      <td>White</td>\n",
       "      <td>59</td>\n",
       "      <td>High School Diploma</td>\n",
       "      <td>0</td>\n",
       "    </tr>\n",
       "  </tbody>\n",
       "</table>\n",
       "</div>"
      ],
      "text/plain": [
       "   lot_size  num_kids  family_income       household_with_gp property_taxes  \\\n",
       "1   >1_acre       0.0       151000.0  HH without grandparent   $ 50 - $  99   \n",
       "2   >1_acre       0.0       151000.0  HH without grandparent   $ 50 - $  99   \n",
       "3   >1_acre       0.0       151000.0  HH without grandparent   $ 50 - $  99   \n",
       "4   >1_acre       0.0       151000.0  HH without grandparent   $ 50 - $  99   \n",
       "11  >1_acre       0.0       136000.0  HH without grandparent  $1400 - $1499   \n",
       "\n",
       "                             mortgage_status                      race  age  \\\n",
       "1                                       None  Black / African American   55   \n",
       "2                                       None  Black / African American   56   \n",
       "3                                       None  Black / African American   21   \n",
       "4                                       None  Black / African American   21   \n",
       "11  Mortgage, deed of trust, or similar debt                     White   59   \n",
       "\n",
       "                   education  marital_status  \n",
       "1                Associate's               0  \n",
       "2        High School Diploma               0  \n",
       "3   Some College - No Degree               2  \n",
       "4   Some College - No Degree               2  \n",
       "11       High School Diploma               0  "
      ]
     },
     "execution_count": 12,
     "metadata": {},
     "output_type": "execute_result"
    }
   ],
   "source": [
    "data = data.dropna()\n",
    "data.head()"
   ]
  },
  {
   "cell_type": "markdown",
   "metadata": {},
   "source": [
    "# Explored the Data with Tableau\n",
    "See Tableau"
   ]
  },
  {
   "cell_type": "code",
   "execution_count": 13,
   "metadata": {},
   "outputs": [],
   "source": [
    "data.to_csv('tableau_data.csv')"
   ]
  },
  {
   "cell_type": "markdown",
   "metadata": {},
   "source": [
    "# Data Pre-Processing"
   ]
  },
  {
   "cell_type": "code",
   "execution_count": 14,
   "metadata": {},
   "outputs": [],
   "source": [
    "categorical_columns = ['lot_size', 'household_with_gp', 'property_taxes', 'mortgage_status', 'race', 'education']\n",
    "numerical_columns = ['num_kids', 'family_income', 'age']"
   ]
  },
  {
   "cell_type": "code",
   "execution_count": 15,
   "metadata": {
    "scrolled": true
   },
   "outputs": [
    {
     "data": {
      "text/plain": [
       "array([[0., 0., 1., ..., 0., 0., 0.],\n",
       "       [0., 0., 1., ..., 0., 0., 0.],\n",
       "       [0., 0., 1., ..., 0., 0., 1.],\n",
       "       ...,\n",
       "       [0., 1., 0., ..., 0., 0., 0.],\n",
       "       [0., 0., 1., ..., 0., 0., 0.],\n",
       "       [0., 0., 1., ..., 0., 0., 0.]])"
      ]
     },
     "execution_count": 15,
     "metadata": {},
     "output_type": "execute_result"
    }
   ],
   "source": [
    "from sklearn.preprocessing import OneHotEncoder\n",
    "ohe = OneHotEncoder(handle_unknown = 'ignore', sparse = False)\n",
    "ohe.fit_transform(data[categorical_columns])"
   ]
  },
  {
   "cell_type": "code",
   "execution_count": 16,
   "metadata": {},
   "outputs": [],
   "source": [
    "data_oh = pd.merge(data[numerical_columns].reset_index(), \n",
    "                   pd.DataFrame(ohe.transform(data[categorical_columns])), \n",
    "                   left_index = True, right_index = True)"
   ]
  },
  {
   "cell_type": "code",
   "execution_count": 17,
   "metadata": {},
   "outputs": [],
   "source": [
    "data_oh = data_oh.drop(columns = ['index'])"
   ]
  },
  {
   "cell_type": "markdown",
   "metadata": {},
   "source": [
    "# Create Learning Model"
   ]
  },
  {
   "cell_type": "code",
   "execution_count": 18,
   "metadata": {},
   "outputs": [],
   "source": [
    "# Predetermined test vs train (most likely 75/25); random_state=1 makes the code reduceable\n",
    "X_train, X_test, y_train, y_test = train_test_split(data_oh, data['marital_status'], random_state=1)"
   ]
  },
  {
   "cell_type": "code",
   "execution_count": 19,
   "metadata": {},
   "outputs": [],
   "source": [
    "# StandardScaler removes the mean and scales each feature/variable to unit variance. \n",
    "# This operation is performed feature-wise in an independent way. \n",
    "# StandardScaler can be influenced by outliers (if they exist in the dataset) since it \n",
    "# involves the estimation of the empirical mean and standard deviation of each feature.\n",
    "X_scaler = StandardScaler().fit(X_train)"
   ]
  },
  {
   "cell_type": "code",
   "execution_count": 20,
   "metadata": {},
   "outputs": [],
   "source": [
    "# Transform keeps the test data from the training data\n",
    "X_train_scaled = X_scaler.transform(X_train)\n",
    "X_test_scaled = X_scaler.transform(X_test)"
   ]
  },
  {
   "cell_type": "code",
   "execution_count": 21,
   "metadata": {},
   "outputs": [],
   "source": [
    "# one hot encoding translates the data to 0 False and 1 True\n",
    "y_train_categorical = to_categorical(y_train)\n",
    "y_test_categorical = to_categorical(y_test)"
   ]
  },
  {
   "cell_type": "code",
   "execution_count": 22,
   "metadata": {},
   "outputs": [],
   "source": [
    "# Create model and add layers\n",
    "model = Sequential()\n",
    "model.add(Dense(units=100, activation='relu', input_dim=100))\n",
    "model.add(Dense(units=100, activation='relu'))\n",
    "\n",
    "# needs 1 unit per column in one hot enconding\n",
    "model.add(Dense(units=3, activation='softmax'))"
   ]
  },
  {
   "cell_type": "code",
   "execution_count": 23,
   "metadata": {},
   "outputs": [
    {
     "name": "stdout",
     "output_type": "stream",
     "text": [
      "Model: \"sequential\"\n",
      "_________________________________________________________________\n",
      "Layer (type)                 Output Shape              Param #   \n",
      "=================================================================\n",
      "dense (Dense)                (None, 100)               10100     \n",
      "_________________________________________________________________\n",
      "dense_1 (Dense)              (None, 100)               10100     \n",
      "_________________________________________________________________\n",
      "dense_2 (Dense)              (None, 3)                 303       \n",
      "=================================================================\n",
      "Total params: 20,503\n",
      "Trainable params: 20,503\n",
      "Non-trainable params: 0\n",
      "_________________________________________________________________\n"
     ]
    }
   ],
   "source": [
    "# what does this tell us?\n",
    "model.summary()"
   ]
  },
  {
   "cell_type": "code",
   "execution_count": 24,
   "metadata": {},
   "outputs": [],
   "source": [
    "# Compile and fit the model\n",
    "model.compile(optimizer='adam',\n",
    "              loss='categorical_crossentropy',\n",
    "              metrics=['accuracy'])"
   ]
  },
  {
   "cell_type": "code",
   "execution_count": 25,
   "metadata": {
    "scrolled": true
   },
   "outputs": [
    {
     "name": "stdout",
     "output_type": "stream",
     "text": [
      "Epoch 1/30\n",
      "23291/23291 - 29s - loss: 0.3996 - accuracy: 0.8681\n",
      "Epoch 2/30\n",
      "23291/23291 - 26s - loss: 0.3846 - accuracy: 0.8717\n",
      "Epoch 3/30\n",
      "23291/23291 - 28s - loss: 0.3817 - accuracy: 0.8720\n",
      "Epoch 4/30\n",
      "23291/23291 - 26s - loss: 0.3800 - accuracy: 0.8726\n",
      "Epoch 5/30\n",
      "23291/23291 - 28s - loss: 0.3790 - accuracy: 0.8729\n",
      "Epoch 6/30\n",
      "23291/23291 - 31s - loss: 0.3781 - accuracy: 0.8730\n",
      "Epoch 7/30\n",
      "23291/23291 - 27s - loss: 0.3772 - accuracy: 0.8730\n",
      "Epoch 8/30\n",
      "23291/23291 - 29s - loss: 0.3767 - accuracy: 0.8734\n",
      "Epoch 9/30\n",
      "23291/23291 - 25s - loss: 0.3763 - accuracy: 0.8734\n",
      "Epoch 10/30\n",
      "23291/23291 - 26s - loss: 0.3758 - accuracy: 0.8736\n",
      "Epoch 11/30\n",
      "23291/23291 - 27s - loss: 0.3754 - accuracy: 0.8737\n",
      "Epoch 12/30\n",
      "23291/23291 - 28s - loss: 0.3752 - accuracy: 0.8739\n",
      "Epoch 13/30\n",
      "23291/23291 - 24s - loss: 0.3750 - accuracy: 0.8739\n",
      "Epoch 14/30\n",
      "23291/23291 - 26s - loss: 0.3747 - accuracy: 0.8738\n",
      "Epoch 15/30\n",
      "23291/23291 - 26s - loss: 0.3744 - accuracy: 0.8740\n",
      "Epoch 16/30\n",
      "23291/23291 - 24s - loss: 0.3743 - accuracy: 0.8738\n",
      "Epoch 17/30\n",
      "23291/23291 - 30s - loss: 0.3741 - accuracy: 0.8741\n",
      "Epoch 18/30\n",
      "23291/23291 - 24s - loss: 0.3739 - accuracy: 0.8741\n",
      "Epoch 19/30\n",
      "23291/23291 - 25s - loss: 0.3737 - accuracy: 0.8742\n",
      "Epoch 20/30\n",
      "23291/23291 - 26s - loss: 0.3737 - accuracy: 0.8742\n",
      "Epoch 21/30\n",
      "23291/23291 - 32s - loss: 0.3734 - accuracy: 0.8742\n",
      "Epoch 22/30\n",
      "23291/23291 - 30s - loss: 0.3733 - accuracy: 0.8744\n",
      "Epoch 23/30\n",
      "23291/23291 - 32s - loss: 0.3732 - accuracy: 0.8745\n",
      "Epoch 24/30\n",
      "23291/23291 - 28s - loss: 0.3731 - accuracy: 0.8743\n",
      "Epoch 25/30\n",
      "23291/23291 - 25s - loss: 0.3729 - accuracy: 0.8742\n",
      "Epoch 26/30\n",
      "23291/23291 - 26s - loss: 0.3729 - accuracy: 0.8744\n",
      "Epoch 27/30\n",
      "23291/23291 - 31s - loss: 0.3728 - accuracy: 0.8744\n",
      "Epoch 28/30\n",
      "23291/23291 - 23s - loss: 0.3728 - accuracy: 0.8745\n",
      "Epoch 29/30\n",
      "23291/23291 - 23s - loss: 0.3727 - accuracy: 0.8745\n",
      "Epoch 30/30\n",
      "23291/23291 - 24s - loss: 0.3726 - accuracy: 0.8746\n"
     ]
    },
    {
     "data": {
      "text/plain": [
       "<tensorflow.python.keras.callbacks.History at 0x17b1ba8f220>"
      ]
     },
     "execution_count": 25,
     "metadata": {},
     "output_type": "execute_result"
    }
   ],
   "source": [
    "model.fit(\n",
    "    X_train_scaled,\n",
    "    y_train_categorical,\n",
    "    epochs=30,\n",
    "    shuffle=True,\n",
    "    verbose=2\n",
    ")"
   ]
  },
  {
   "cell_type": "markdown",
   "metadata": {},
   "source": [
    "# Quantified Trained Model  & Prediction\n",
    "See Testing.ipynb"
   ]
  },
  {
   "cell_type": "code",
   "execution_count": 26,
   "metadata": {},
   "outputs": [
    {
     "name": "stdout",
     "output_type": "stream",
     "text": [
      "7764/7764 - 7s - loss: 0.3819 - accuracy: 0.8726\n",
      "Normal Neural Network - Loss: 0.38190603256225586, Accuracy: 0.87262362241745\n"
     ]
    }
   ],
   "source": [
    "model_loss, model_accuracy = model.evaluate(\n",
    "    X_test_scaled, y_test_categorical, verbose=2)\n",
    "print(\n",
    "    f\"Normal Neural Network - Loss: {model_loss}, Accuracy: {model_accuracy}\")"
   ]
  },
  {
   "cell_type": "code",
   "execution_count": 27,
   "metadata": {},
   "outputs": [],
   "source": [
    "model.save(\"model_saved.h5\")"
   ]
  },
  {
   "cell_type": "code",
   "execution_count": 28,
   "metadata": {},
   "outputs": [],
   "source": [
    "data_oh.sample(2000).to_csv(\"sample_data.csv\", index=False)"
   ]
  },
  {
   "cell_type": "markdown",
   "metadata": {},
   "source": [
    "# Explored Random Forest"
   ]
  },
  {
   "cell_type": "code",
   "execution_count": 29,
   "metadata": {},
   "outputs": [],
   "source": [
    "from sklearn.ensemble import RandomForestClassifier"
   ]
  },
  {
   "cell_type": "code",
   "execution_count": 30,
   "metadata": {},
   "outputs": [],
   "source": [
    "clf = RandomForestClassifier()\n",
    "clf = clf.fit(X_train_scaled, y_train)"
   ]
  },
  {
   "cell_type": "code",
   "execution_count": 31,
   "metadata": {},
   "outputs": [
    {
     "data": {
      "text/plain": [
       "0.8670930658476796"
      ]
     },
     "execution_count": 31,
     "metadata": {},
     "output_type": "execute_result"
    }
   ],
   "source": [
    "clf.score(X_test_scaled, y_test)"
   ]
  },
  {
   "cell_type": "code",
   "execution_count": 32,
   "metadata": {},
   "outputs": [],
   "source": [
    "from sklearn import tree\n",
    "import os"
   ]
  },
  {
   "cell_type": "code",
   "execution_count": 33,
   "metadata": {},
   "outputs": [
    {
     "data": {
      "text/plain": [
       "array([3.43229807e-02, 2.00755901e-01, 5.05692005e-01, 2.04828455e-03,\n",
       "       4.08083553e-03, 5.02757445e-03, 2.81491354e-03, 4.51053494e-03,\n",
       "       4.25551661e-03, 1.85271921e-03, 2.00516302e-03, 1.86522571e-03,\n",
       "       2.14661943e-03, 1.87514923e-03, 2.59170272e-03, 2.16852049e-03,\n",
       "       2.61370609e-03, 2.05021850e-03, 1.75805043e-03, 2.98684184e-03,\n",
       "       1.87345100e-03, 3.27393418e-03, 2.06991687e-03, 2.89952398e-03,\n",
       "       1.87807169e-03, 3.39804015e-03, 1.89312444e-03, 2.85544275e-03,\n",
       "       1.74655947e-03, 4.38008357e-03, 3.91770177e-03, 2.94270575e-03,\n",
       "       2.73516017e-03, 4.72187073e-03, 3.28868219e-03, 3.02468362e-03,\n",
       "       3.88842356e-03, 3.05092766e-03, 2.59479677e-03, 3.27804811e-03,\n",
       "       2.06588354e-03, 4.49045988e-03, 1.76789827e-03, 2.36134400e-03,\n",
       "       2.03852098e-03, 2.51468664e-03, 3.33490491e-03, 1.90406643e-03,\n",
       "       1.60460617e-03, 1.99016633e-03, 1.11183690e-03, 3.99064987e-03,\n",
       "       9.77021509e-04, 1.87678431e-03, 1.17846646e-03, 1.34736159e-03,\n",
       "       2.52122186e-03, 1.74994980e-03, 1.09715222e-03, 1.52822275e-03,\n",
       "       7.99362960e-04, 3.31764707e-03, 6.13308210e-04, 1.21240828e-03,\n",
       "       8.05896822e-04, 7.93730275e-04, 1.85531554e-03, 7.02654904e-04,\n",
       "       5.79903277e-04, 1.07202362e-03, 4.95448077e-04, 3.34000597e-03,\n",
       "       2.04681261e-03, 3.29353337e-03, 2.47242907e-03, 2.28050870e-03,\n",
       "       1.57653495e-03, 1.29812293e-03, 4.70738528e-03, 4.46473641e-03,\n",
       "       2.61517604e-04, 1.11589810e-03, 2.89766791e-04, 2.62300060e-03,\n",
       "       6.19695425e-03, 3.32227870e-04, 2.06204995e-03, 1.70341316e-03,\n",
       "       7.82008340e-03, 2.31035643e-03, 1.20924503e-02, 4.25351893e-03,\n",
       "       5.79690417e-03, 1.27106138e-03, 3.01519803e-03, 5.80569458e-03,\n",
       "       4.13634050e-03, 5.50387450e-03, 1.68501906e-03, 5.41208581e-03])"
      ]
     },
     "execution_count": 33,
     "metadata": {},
     "output_type": "execute_result"
    }
   ],
   "source": [
    "importances = clf.feature_importances_ \n",
    "importances"
   ]
  },
  {
   "cell_type": "code",
   "execution_count": 34,
   "metadata": {},
   "outputs": [
    {
     "data": {
      "text/plain": [
       "Index(['lot_size', 'num_kids', 'family_income', 'household_with_gp',\n",
       "       'property_taxes', 'mortgage_status', 'race', 'age', 'education',\n",
       "       'marital_status'],\n",
       "      dtype='object')"
      ]
     },
     "execution_count": 34,
     "metadata": {},
     "output_type": "execute_result"
    }
   ],
   "source": [
    "feature_names = data.columns\n",
    "feature_names"
   ]
  },
  {
   "cell_type": "code",
   "execution_count": 35,
   "metadata": {},
   "outputs": [
    {
     "data": {
      "text/plain": [
       "[(0.5056920049545199, 'family_income'),\n",
       " (0.20075590146170347, 'num_kids'),\n",
       " (0.03432298070303187, 'lot_size'),\n",
       " (0.005027574447354028, 'mortgage_status'),\n",
       " (0.004510534941454965, 'age'),\n",
       " (0.004255516609063531, 'education'),\n",
       " (0.0040808355293062756, 'property_taxes'),\n",
       " (0.002814913543705171, 'race'),\n",
       " (0.0020482845487667756, 'household_with_gp'),\n",
       " (0.0018527192138117347, 'marital_status')]"
      ]
     },
     "execution_count": 35,
     "metadata": {},
     "output_type": "execute_result"
    }
   ],
   "source": [
    "forest_features = sorted(zip(clf.feature_importances_, feature_names), reverse=True)\n",
    "forest_features"
   ]
  },
  {
   "cell_type": "code",
   "execution_count": 36,
   "metadata": {
    "scrolled": true
   },
   "outputs": [
    {
     "name": "stdout",
     "output_type": "stream",
     "text": [
      "7764/7764 [==============================] - 7s 919us/step - loss: 0.3819 - accuracy: 0.8726\n"
     ]
    },
    {
     "data": {
      "text/plain": [
       "[0.38190603256225586, 0.87262362241745]"
      ]
     },
     "execution_count": 36,
     "metadata": {},
     "output_type": "execute_result"
    }
   ],
   "source": [
    "# The loss is calculated on training and validation and its interpretation is based on how well the model is doing in these two sets. It is the sum of errors made for each example in training or validation sets. Loss value implies how poorly or well a model behaves after each iteration of optimization.\n",
    "model.evaluate(X_test_scaled, y_test_categorical)"
   ]
  },
  {
   "cell_type": "markdown",
   "metadata": {},
   "source": [
    "# Matplotlib\n",
    "Using matplotlib, created a bar chart showing the Random Forest results"
   ]
  },
  {
   "cell_type": "code",
   "execution_count": 37,
   "metadata": {},
   "outputs": [],
   "source": [
    "# Dependencies and Setup\n",
    "import matplotlib.pyplot as plt\n",
    "import scipy.stats as st\n",
    "import numpy as np\n",
    "from scipy.stats import linregress\n",
    "from pandas import DataFrame"
   ]
  },
  {
   "cell_type": "code",
   "execution_count": 38,
   "metadata": {},
   "outputs": [
    {
     "data": {
      "image/png": "[encoded data removed]",
      "text/plain": [
       "<Figure size 432x288 with 1 Axes>"
      ]
     },
     "metadata": {
      "needs_background": "light"
     },
     "output_type": "display_data"
    }
   ],
   "source": [
    "variable = ['family_income','num_kids','lot_size','mortgage_status','education', 'property_taxes', 'age', 'race', 'household_with_gp', 'marital_status']\n",
    "weight = [0.504141, 0.204110, 0.033382, 0.004979, 0.004791, 0.004090, 0.003873, 0.002807, 0.002038, 0.001794]\n",
    "\n",
    "plt.bar(variable, weight)\n",
    "plt.title('Weight of Feature Importance')\n",
    "plt.xlabel('Variable')\n",
    "plt.ylabel('Weight')\n",
    "\n",
    "# Label the tick marks according to the index values in the 'counts' series\n",
    "# tick_locations = [value for value in x_axis]\n",
    "# plt.xticks(tick_locations, counts.index.values)\n",
    "\n",
    "# Rotate tick marks 90 degrees for visibility\n",
    "plt.xticks(rotation=90)\n",
    "\n",
    "\n",
    "plt.show()"
   ]
  },
  {
   "cell_type": "markdown",
   "metadata": {},
   "source": [
    "# Hosted on Colab\n",
    "See link HERE: https://colab.research.google.com/drive/1knJRD_JSAHenPDdukYkd3eue3l3_0XP2?usp=sharing&pli=1&authuser=1"
   ]
  }
 ],
 "metadata": {
  "kernelspec": {
   "display_name": "Python 3",
   "language": "python",
   "name": "python3"
  },
  "language_info": {
   "codemirror_mode": {
    "name": "ipython",
    "version": 3
   },
   "file_extension": ".py",
   "mimetype": "text/x-python",
   "name": "python",
   "nbconvert_exporter": "python",
   "pygments_lexer": "ipython3",
   "version": "3.8.3"
  }
 },
 "nbformat": 4,
 "nbformat_minor": 4
}
